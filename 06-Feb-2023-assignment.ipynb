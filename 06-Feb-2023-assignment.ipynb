{
 "cells": [
  {
   "cell_type": "markdown",
   "id": "988fa8bb-a817-49a8-bd7d-5a05c22e6db8",
   "metadata": {},
   "source": [
    "### Q1. Create a function which will take a list as an argument and return the product of all the numbers after creating a flat list. Use the below-given list as an argument for your function."
   ]
  },
  {
   "cell_type": "code",
   "execution_count": 28,
   "id": "c328b98d-fab2-49c5-9e30-88333e977f24",
   "metadata": {},
   "outputs": [],
   "source": [
    "list1 = [1,2,3,4, [44,55,66, True], False, (34,56,78,89,34), {1,2,3,3,2,1}, {1:34, \"key2\": [55, 67, 78, 89], 4: (45,\n",
    "22, 61, 34)}, [56, 'data science'], 'Machine Learning']"
   ]
  },
  {
   "cell_type": "code",
   "execution_count": 42,
   "id": "da34125d-998f-40aa-ab88-4a3ecb1300a2",
   "metadata": {},
   "outputs": [
    {
     "name": "stdout",
     "output_type": "stream",
     "text": [
      "[1, 2, 3, 4, 44, 55, 66, True, False, 34, 56, 78, 89, 34, 1, 2, 3, 1, 34, 'key2', 55, 67, 78, 89, 4, 45, 22, 61, 34, 56, 'data science', 'Machine Learning']\n"
     ]
    }
   ],
   "source": [
    "def flatten(lst):\n",
    "    r = []\n",
    "    for i in lst:\n",
    "        if isinstance(i,(tuple,list,set)):\n",
    "            r.extend(flatten(i))\n",
    "        elif isinstance(i,dict):\n",
    "            r.extend(flatten(list(i.items())))\n",
    "        else:\n",
    "            r.append(i)\n",
    "    return r\n",
    "print(flatten(list1))\n"
   ]
  },
  {
   "cell_type": "markdown",
   "id": "db92ad64-a18d-4cb3-a965-42649edb862a",
   "metadata": {},
   "source": [
    "### Q2. Write a python program for encrypting a message sent to you by your friend. The logic of encryption should be such that, for a the output should be z. For b, the output should be y. For c, the output should be x respectively. Also, the whitespace should be replaced with a dollar sign. Keep the punctuation marks unchanged."
   ]
  },
  {
   "cell_type": "code",
   "execution_count": 43,
   "id": "d960debc-cda3-4afa-ba41-5624ed5ace37",
   "metadata": {},
   "outputs": [],
   "source": [
    "s=\"I want to become a Data Scientist.\""
   ]
  },
  {
   "cell_type": "code",
   "execution_count": 44,
   "id": "595aced6-18c0-4688-b5fa-fae35f11faa1",
   "metadata": {},
   "outputs": [],
   "source": [
    "def mesg(a):\n",
    "    lst=list(a.lower())\n",
    "    for i in lst:\n",
    "        if i=='a':\n",
    "            lst[lst.index(i)]='z'\n",
    "        elif i=='b':\n",
    "             lst[lst.index(i)]='y'\n",
    "        elif i=='c':\n",
    "             lst[lst.index(i)]='x'\n",
    "        elif i==' ':\n",
    "             lst[lst.index(i)]='$'\n",
    "    lst=\"\".join(lst).lower()\n",
    "    return lst"
   ]
  },
  {
   "cell_type": "code",
   "execution_count": 24,
   "id": "1494787a-7081-4db2-ba24-0e79a055acbc",
   "metadata": {},
   "outputs": [
    {
     "data": {
      "text/plain": [
       "'i$wznt$to$yexome$z$dztz$sxientist.'"
      ]
     },
     "execution_count": 24,
     "metadata": {},
     "output_type": "execute_result"
    }
   ],
   "source": [
    "mesg(s)"
   ]
  }
 ],
 "metadata": {
  "kernelspec": {
   "display_name": "Python 3 (ipykernel)",
   "language": "python",
   "name": "python3"
  },
  "language_info": {
   "codemirror_mode": {
    "name": "ipython",
    "version": 3
   },
   "file_extension": ".py",
   "mimetype": "text/x-python",
   "name": "python",
   "nbconvert_exporter": "python",
   "pygments_lexer": "ipython3",
   "version": "3.10.8"
  }
 },
 "nbformat": 4,
 "nbformat_minor": 5
}
