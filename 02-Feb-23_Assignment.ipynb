{
 "cells": [
  {
   "cell_type": "markdown",
   "id": "0a262ac5",
   "metadata": {},
   "source": [
    "### Q1. Python Tuple is a collection of objects separated by commas. A tuple is similar to a list in terms of indexing, nested objects, and repetition but a tuple is immutable, unlike lists which are mutable."
   ]
  },
  {
   "cell_type": "markdown",
   "id": "7411374d",
   "metadata": {},
   "source": [
    "### Q2. count() & index(). Tupples are generally meant for immutability i.e. no chnages are allowed"
   ]
  },
  {
   "cell_type": "code",
   "execution_count": 14,
   "id": "830a3bfc",
   "metadata": {},
   "outputs": [],
   "source": [
    "### Tuples examples\n",
    "s1=(2,5,5,6,6,6,7,8,6,9,7)\n",
    "count=s1.count(5) # count no. of 5 elements in tuple s1\n",
    "index=s1.index(8)\n",
    "\n",
    "\n"
   ]
  },
  {
   "cell_type": "code",
   "execution_count": 15,
   "id": "863703cf",
   "metadata": {},
   "outputs": [
    {
     "data": {
      "text/plain": [
       "2"
      ]
     },
     "execution_count": 15,
     "metadata": {},
     "output_type": "execute_result"
    }
   ],
   "source": [
    "count\n"
   ]
  },
  {
   "cell_type": "code",
   "execution_count": 16,
   "id": "c2d56964",
   "metadata": {},
   "outputs": [
    {
     "data": {
      "text/plain": [
       "7"
      ]
     },
     "execution_count": 16,
     "metadata": {},
     "output_type": "execute_result"
    }
   ],
   "source": [
    "index"
   ]
  },
  {
   "cell_type": "markdown",
   "id": "ce24ff2a",
   "metadata": {},
   "source": [
    "### Q3. Set do not allow duplicate data types"
   ]
  },
  {
   "cell_type": "code",
   "execution_count": 17,
   "id": "3049cf27",
   "metadata": {},
   "outputs": [
    {
     "data": {
      "text/plain": [
       "{1, 2, 3, 4}"
      ]
     },
     "execution_count": 17,
     "metadata": {},
     "output_type": "execute_result"
    }
   ],
   "source": [
    "List = [1, 1, 1, 2, 1, 3, 1, 4, 2, 1, 2, 2, 2, 3, 2, 4, 3, 1, 3, 2, 3, 3, 3, 4, 4, 1, 4, 2, 4, 3, 4, 4]\n",
    "s=set(List)\n",
    "s"
   ]
  },
  {
   "cell_type": "markdown",
   "id": "bbc203b2",
   "metadata": {},
   "source": [
    "### Q4. union() returns the union of sets as a new set. update() ret"
   ]
  },
  {
   "cell_type": "code",
   "execution_count": 20,
   "id": "ed0bdeb2",
   "metadata": {},
   "outputs": [
    {
     "data": {
      "text/plain": [
       "{1, 4, 5, 6, 8, 9}"
      ]
     },
     "execution_count": 20,
     "metadata": {},
     "output_type": "execute_result"
    }
   ],
   "source": [
    "p={5,6,1,8,9}\n",
    "t={4,6,6,8,6}\n",
    "p.union(t)"
   ]
  },
  {
   "cell_type": "code",
   "execution_count": 21,
   "id": "73f9cca4",
   "metadata": {},
   "outputs": [],
   "source": [
    "\n",
    "t={4,6,6,8,6}\n",
    "t.update(s)"
   ]
  },
  {
   "cell_type": "code",
   "execution_count": 23,
   "id": "10fcb935",
   "metadata": {},
   "outputs": [
    {
     "data": {
      "text/plain": [
       "{1, 2, 3, 4, 6, 8}"
      ]
     },
     "execution_count": 23,
     "metadata": {},
     "output_type": "execute_result"
    }
   ],
   "source": [
    "t"
   ]
  },
  {
   "cell_type": "markdown",
   "id": "6f5abc6b",
   "metadata": {},
   "source": []
  },
  {
   "cell_type": "markdown",
   "id": "2d2d5936",
   "metadata": {},
   "source": [
    "### Q5. A Python dictionary is a data type that stores elements in key/value pairs. Keys are unique identifiers that are associated with each value. A dictionary is ordered as of Python version 3.7."
   ]
  },
  {
   "cell_type": "markdown",
   "id": "9ea82e76",
   "metadata": {},
   "source": []
  },
  {
   "cell_type": "markdown",
   "id": "b01b0728",
   "metadata": {},
   "source": [
    "### Q6. yes we can create nested dictionary. Example shown below-"
   ]
  },
  {
   "cell_type": "code",
   "execution_count": 3,
   "id": "de91d1c3",
   "metadata": {},
   "outputs": [],
   "source": [
    "nested_dict={'dict1':{'key1':5},'dict2':{'key2':6}}"
   ]
  },
  {
   "cell_type": "code",
   "execution_count": 8,
   "id": "117be26a",
   "metadata": {},
   "outputs": [
    {
     "data": {
      "text/plain": [
       "5"
      ]
     },
     "execution_count": 8,
     "metadata": {},
     "output_type": "execute_result"
    }
   ],
   "source": [
    "nested_dict['dict1']['key1']"
   ]
  },
  {
   "cell_type": "markdown",
   "id": "2abd8449",
   "metadata": {},
   "source": [
    "### Q7."
   ]
  },
  {
   "cell_type": "code",
   "execution_count": 21,
   "id": "01093c79",
   "metadata": {},
   "outputs": [],
   "source": [
    "dict1 = {'language' : 'Python', 'course': 'Data Science Masters'}"
   ]
  },
  {
   "cell_type": "code",
   "execution_count": 22,
   "id": "45c46417",
   "metadata": {},
   "outputs": [
    {
     "data": {
      "text/plain": [
       "['Pyhton', 'Machine Learning', 'Deep Learning']"
      ]
     },
     "execution_count": 22,
     "metadata": {},
     "output_type": "execute_result"
    }
   ],
   "source": [
    "dict1.setdefault('topics',['Pyhton','Machine Learning','Deep Learning'])"
   ]
  },
  {
   "cell_type": "code",
   "execution_count": 23,
   "id": "b7cd6e9e",
   "metadata": {},
   "outputs": [
    {
     "data": {
      "text/plain": [
       "{'language': 'Python',\n",
       " 'course': 'Data Science Masters',\n",
       " 'topics': ['Pyhton', 'Machine Learning', 'Deep Learning']}"
      ]
     },
     "execution_count": 23,
     "metadata": {},
     "output_type": "execute_result"
    }
   ],
   "source": [
    "dict1"
   ]
  },
  {
   "cell_type": "markdown",
   "id": "6111495b",
   "metadata": {},
   "source": [
    "### Q8.Three view objects in dictionaries: keys, values & items\n"
   ]
  },
  {
   "cell_type": "code",
   "execution_count": 5,
   "id": "1ac25a54",
   "metadata": {},
   "outputs": [],
   "source": [
    "dict1 = {'Sport': 'Cricket' , 'Teams': ['India', 'Australia', 'England', 'South Africa', 'Sri Lanka', 'New Zealand']}"
   ]
  },
  {
   "cell_type": "code",
   "execution_count": 6,
   "id": "2bac3ae6",
   "metadata": {},
   "outputs": [
    {
     "data": {
      "text/plain": [
       "dict_keys(['Sport', 'Teams'])"
      ]
     },
     "execution_count": 6,
     "metadata": {},
     "output_type": "execute_result"
    }
   ],
   "source": [
    "dict1.keys()"
   ]
  },
  {
   "cell_type": "code",
   "execution_count": 8,
   "id": "71e8c457",
   "metadata": {},
   "outputs": [
    {
     "data": {
      "text/plain": [
       "dict_values(['Cricket', ['India', 'Australia', 'England', 'South Africa', 'Sri Lanka', 'New Zealand']])"
      ]
     },
     "execution_count": 8,
     "metadata": {},
     "output_type": "execute_result"
    }
   ],
   "source": [
    "dict1.values()"
   ]
  },
  {
   "cell_type": "code",
   "execution_count": 9,
   "id": "6051fe23",
   "metadata": {},
   "outputs": [
    {
     "data": {
      "text/plain": [
       "dict_items([('Sport', 'Cricket'), ('Teams', ['India', 'Australia', 'England', 'South Africa', 'Sri Lanka', 'New Zealand'])])"
      ]
     },
     "execution_count": 9,
     "metadata": {},
     "output_type": "execute_result"
    }
   ],
   "source": [
    "dict1.items()"
   ]
  },
  {
   "cell_type": "code",
   "execution_count": null,
   "id": "feccda4f",
   "metadata": {},
   "outputs": [],
   "source": []
  }
 ],
 "metadata": {
  "kernelspec": {
   "display_name": "Python 3 (ipykernel)",
   "language": "python",
   "name": "python3"
  },
  "language_info": {
   "codemirror_mode": {
    "name": "ipython",
    "version": 3
   },
   "file_extension": ".py",
   "mimetype": "text/x-python",
   "name": "python",
   "nbconvert_exporter": "python",
   "pygments_lexer": "ipython3",
   "version": "3.9.13"
  }
 },
 "nbformat": 4,
 "nbformat_minor": 5
}
