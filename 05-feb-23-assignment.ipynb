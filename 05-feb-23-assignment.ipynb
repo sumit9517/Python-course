{
 "cells": [
  {
   "cell_type": "markdown",
   "id": "29ab2167-f53d-4b1b-9c79-3564073eed74",
   "metadata": {},
   "source": [
    "### Q1. Explain Class and Object with respect to Object-Oriented Programming. Give a suitable example."
   ]
  },
  {
   "cell_type": "markdown",
   "id": "ac0ff64a-dc8e-4834-bd5d-96618b6f9190",
   "metadata": {},
   "source": [
    "##### A class is an entity that determines how an object will behave and what the object will contain. In other words, it is a blueprint or a set of instruction to build a specific type of object. It provides initial values for member variables and member functions or methods."
   ]
  },
  {
   "cell_type": "markdown",
   "id": "e8a4f2f2-c35d-470b-b3c9-d82155bf4550",
   "metadata": {},
   "source": [
    "##### Object is an instance of a class. All data members and member functions of the class can be accessed with the help of objects"
   ]
  },
  {
   "cell_type": "markdown",
   "id": "b7b45ee9-d6c7-48fd-9f52-330e4397872a",
   "metadata": {},
   "source": [
    "#### example"
   ]
  },
  {
   "cell_type": "code",
   "execution_count": 17,
   "id": "d0b375fb-6855-4350-b540-e1e0fca633ac",
   "metadata": {},
   "outputs": [],
   "source": [
    "class car:\n",
    "    def __init__(a,brand,colour,mode,price):\n",
    "        a.brand=brand\n",
    "        a.colour=colour\n",
    "        a.mode=mode\n",
    "        a.price=price\n",
    "    def return_car_details(a):\n",
    "        return a.brand,a.colour,a.mode,a.price"
   ]
  },
  {
   "cell_type": "code",
   "execution_count": 18,
   "id": "4ea5ed22-ca4a-4e2c-9d09-ae295974d370",
   "metadata": {},
   "outputs": [],
   "source": [
    "car1=car('mercedez','red','sports','1cr')"
   ]
  },
  {
   "cell_type": "code",
   "execution_count": 19,
   "id": "b169b87b-ed80-4991-b7fc-5e0891632987",
   "metadata": {},
   "outputs": [
    {
     "data": {
      "text/plain": [
       "'mercedez'"
      ]
     },
     "execution_count": 19,
     "metadata": {},
     "output_type": "execute_result"
    }
   ],
   "source": [
    "car1.brand"
   ]
  },
  {
   "cell_type": "code",
   "execution_count": 20,
   "id": "26f4e9be-4f7b-4071-9d84-61065216203e",
   "metadata": {},
   "outputs": [
    {
     "data": {
      "text/plain": [
       "'sports'"
      ]
     },
     "execution_count": 20,
     "metadata": {},
     "output_type": "execute_result"
    }
   ],
   "source": [
    "car1.mode"
   ]
  },
  {
   "cell_type": "code",
   "execution_count": 21,
   "id": "0575bdbc-78fe-4bbc-909e-650c12833040",
   "metadata": {},
   "outputs": [
    {
     "data": {
      "text/plain": [
       "'red'"
      ]
     },
     "execution_count": 21,
     "metadata": {},
     "output_type": "execute_result"
    }
   ],
   "source": [
    "car1.colour"
   ]
  },
  {
   "cell_type": "code",
   "execution_count": 22,
   "id": "d4b88c01-c495-4250-8a5a-ae9508243d5f",
   "metadata": {},
   "outputs": [
    {
     "data": {
      "text/plain": [
       "'1cr'"
      ]
     },
     "execution_count": 22,
     "metadata": {},
     "output_type": "execute_result"
    }
   ],
   "source": [
    "car1.price"
   ]
  },
  {
   "cell_type": "markdown",
   "id": "c0028f57-ea03-404c-b6ed-bad67680f7e6",
   "metadata": {},
   "source": [
    "### Q2. Name the four pillars of OOPs."
   ]
  },
  {
   "cell_type": "markdown",
   "id": "94a4336a-3c86-4413-bfaa-53602ae077b4",
   "metadata": {},
   "source": [
    "##### Encapsulation, Abstraction, Inheritance, and Polymorphism."
   ]
  },
  {
   "cell_type": "markdown",
   "id": "290d1e03-4c66-4701-abe9-d558e9d98af1",
   "metadata": {},
   "source": [
    "### Q3. Explain why the __init__() function is used. Give a suitable example."
   ]
  },
  {
   "cell_type": "markdown",
   "id": "1b2004df-2a90-4981-8dc7-0d1db6aa9c18",
   "metadata": {},
   "source": [
    "##### The __init__() function is a special method in Python classes. It is called a constructor method and is automatically called when an object is created from a class. The purpose of this function is to initialize the attributes of the object with default or user-defined values."
   ]
  },
  {
   "cell_type": "code",
   "execution_count": 23,
   "id": "310e68b5-8b86-4271-bc4d-ce04c77242a0",
   "metadata": {},
   "outputs": [
    {
     "data": {
      "text/plain": [
       "'Red'"
      ]
     },
     "execution_count": 23,
     "metadata": {},
     "output_type": "execute_result"
    }
   ],
   "source": [
    "class Car:\n",
    "    def __init__(self, brand, color):\n",
    "        self.brand = brand\n",
    "        self.color = color\n",
    "\n",
    "my_car = Car('Toyota', 'Red')\n",
    "\n",
    "my_car.color"
   ]
  },
  {
   "cell_type": "code",
   "execution_count": 24,
   "id": "2d978cd0-3790-49ba-9236-546ceadaa3f7",
   "metadata": {},
   "outputs": [
    {
     "data": {
      "text/plain": [
       "'Toyota'"
      ]
     },
     "execution_count": 24,
     "metadata": {},
     "output_type": "execute_result"
    }
   ],
   "source": [
    "my_car.brand"
   ]
  },
  {
   "cell_type": "markdown",
   "id": "118dd112-8054-4786-87e8-aaadc2ebd209",
   "metadata": {},
   "source": [
    "### Q4. Why self is used in OOPs?"
   ]
  },
  {
   "cell_type": "markdown",
   "id": "6e21d477-5be1-4d89-823c-5ca72d40926c",
   "metadata": {},
   "source": [
    "##### Self is just variabe, intead of self any varibale can be used."
   ]
  },
  {
   "cell_type": "markdown",
   "id": "e21bd184-e502-43d6-b58a-c204d558fcef",
   "metadata": {},
   "source": [
    "### Q5. What is inheritance? Give an example for each type of inheritance."
   ]
  },
  {
   "cell_type": "markdown",
   "id": "2ae0ea49-a44f-4f21-97c5-e6eeb2c2e3b5",
   "metadata": {},
   "source": [
    "##### Inheritance is a fundamental concept in Object-Oriented Programming (OOP) that allows us to define a new class based on an existing class. The new class is called a derived or child class and the existing class is called the base or parent class. Inheritance allows us to reuse code by inheriting attributes and methods from the parent class."
   ]
  },
  {
   "cell_type": "code",
   "execution_count": 25,
   "id": "b295b50c-7453-4027-8a4b-545ddf90b1d9",
   "metadata": {},
   "outputs": [],
   "source": [
    "class animal:\n",
    "    def __init__(self,name,age):\n",
    "        self.name=name\n",
    "        self.age=age\n",
    "class Dog(animal):\n",
    "    def __init__(self,name,age,colour):\n",
    "        super().__init__(name,age)\n",
    "        self.colour=colour"
   ]
  },
  {
   "cell_type": "code",
   "execution_count": null,
   "id": "bd118b51-c52e-46b6-b5c5-f2b9eaf8255d",
   "metadata": {},
   "outputs": [],
   "source": []
  },
  {
   "cell_type": "code",
   "execution_count": null,
   "id": "3aa8be37-46a2-460e-a1c7-35a88c74c999",
   "metadata": {},
   "outputs": [],
   "source": []
  }
 ],
 "metadata": {
  "kernelspec": {
   "display_name": "Python 3 (ipykernel)",
   "language": "python",
   "name": "python3"
  },
  "language_info": {
   "codemirror_mode": {
    "name": "ipython",
    "version": 3
   },
   "file_extension": ".py",
   "mimetype": "text/x-python",
   "name": "python",
   "nbconvert_exporter": "python",
   "pygments_lexer": "ipython3",
   "version": "3.10.8"
  }
 },
 "nbformat": 4,
 "nbformat_minor": 5
}
