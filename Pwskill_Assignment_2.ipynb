{
  "nbformat": 4,
  "nbformat_minor": 0,
  "metadata": {
    "colab": {
      "provenance": []
    },
    "kernelspec": {
      "name": "python3",
      "display_name": "Python 3"
    },
    "language_info": {
      "name": "python"
    }
  },
  "cells": [
    {
      "cell_type": "markdown",
      "source": [
        "**Question-1**"
      ],
      "metadata": {
        "id": "d7AaZRkv8t2r"
      }
    },
    {
      "cell_type": "code",
      "source": [
        "Per=int(input(\"Please enter percentage: \"))\n",
        "if Per>90:\n",
        "  print(\"Grade: A\")\n",
        "elif Per>80 and Per<=90:\n",
        "  print(\"Grade: B\")\n",
        "elif Per>=60 and Per<=80:\n",
        "  print(\"Grade: C\")\n",
        "else:\n",
        "  print(\"Grade: D\")"
      ],
      "metadata": {
        "colab": {
          "base_uri": "https://localhost:8080/"
        },
        "id": "JeBBJx4f87mm",
        "outputId": "3357def2-b3e9-4f5d-bd85-7487e67a6f01"
      },
      "execution_count": null,
      "outputs": [
        {
          "output_type": "stream",
          "name": "stdout",
          "text": [
            "Please enter percentage: 60\n",
            "Grade: C\n"
          ]
        }
      ]
    },
    {
      "cell_type": "markdown",
      "source": [
        "Question-2"
      ],
      "metadata": {
        "id": "CO1ywAZE-X9N"
      }
    },
    {
      "cell_type": "code",
      "source": [
        "CP=int(input(\"Please enter cost price of a bike: \"))\n",
        "if CP>100000:\n",
        "  print(\"Road Tax: 15%\")\n",
        "elif CP>50000 and CP<=100000:\n",
        "  print(\"Road Tax: 10%\")\n",
        "else:\n",
        "  print(\"Road Tax: 5%\")\n"
      ],
      "metadata": {
        "colab": {
          "base_uri": "https://localhost:8080/"
        },
        "id": "VWijMKbh-PmN",
        "outputId": "de1f5243-e6dd-4bac-c3e6-b3e95fbc206f"
      },
      "execution_count": null,
      "outputs": [
        {
          "output_type": "stream",
          "name": "stdout",
          "text": [
            "Please enter cost price of a bike: 50000\n",
            "Road Tax: 5%\n"
          ]
        }
      ]
    },
    {
      "cell_type": "markdown",
      "source": [
        "Question-3"
      ],
      "metadata": {
        "id": "JhSIqmVe_nV9"
      }
    },
    {
      "cell_type": "code",
      "source": [
        "City=input(\"Please enter city (Delhi, Agra, Jaipur): \")\n",
        "if City=='Delhi':\n",
        "  print(\"Monument: Red Fort\")\n",
        "elif City=='Agra':\n",
        "  print(\"Monument: Taj Mahal\")\n",
        "elif City=='Jaipur':\n",
        "  print(\"Monument: Jal Mahal\")\n",
        "else:\n",
        "  print(\"Please select the options from given inputs\")"
      ],
      "metadata": {
        "colab": {
          "base_uri": "https://localhost:8080/"
        },
        "id": "j99YO7Kd_KyX",
        "outputId": "e1d0116c-13d4-4d42-cbe8-3cec00b45dc1"
      },
      "execution_count": null,
      "outputs": [
        {
          "output_type": "stream",
          "name": "stdout",
          "text": [
            "Please enter city (Delhi, Agra, Jaipur): Delhi\n",
            "Monument: Red Fort\n"
          ]
        }
      ]
    },
    {
      "cell_type": "markdown",
      "source": [
        "Question-4"
      ],
      "metadata": {
        "id": "KVfOJ6HpvGYL"
      }
    },
    {
      "cell_type": "code",
      "source": [
        "no=int(input(\"Type any number: \"))\n",
        "count=0\n",
        "while no>10:\n",
        "  no=no//3\n",
        "  count+=1\n",
        "print(f\"Answer is {count}\")"
      ],
      "metadata": {
        "colab": {
          "base_uri": "https://localhost:8080/"
        },
        "id": "SRp8QTvvvIEE",
        "outputId": "9e805ccf-56bd-4d9d-b32e-2ff64ac721fa"
      },
      "execution_count": null,
      "outputs": [
        {
          "output_type": "stream",
          "name": "stdout",
          "text": [
            "Type any number: 5000\n",
            "Answer is 6\n"
          ]
        }
      ]
    },
    {
      "cell_type": "markdown",
      "source": [
        "Question-5\n",
        "\n",
        "While loop is used when to run the code upto when the given while condition can be satisfied and get out of loop when the condition is not true. Here no. of interation is not fixed or well defined and depends on the condition. "
      ],
      "metadata": {
        "id": "tobDMCCcv7CD"
      }
    },
    {
      "cell_type": "code",
      "source": [
        "no=int(input(\"Type any number: \"))\n",
        "count=0\n",
        "while no>10:\n",
        "  no=no//3\n",
        "  count+=1\n",
        "print(f\"Answer is {count}\")"
      ],
      "metadata": {
        "colab": {
          "base_uri": "https://localhost:8080/"
        },
        "id": "_m9yEHYQv8Sz",
        "outputId": "20508e8b-e5b9-4685-c188-dd396b10b50f"
      },
      "execution_count": null,
      "outputs": [
        {
          "output_type": "stream",
          "name": "stdout",
          "text": [
            "Type any number: 500000\n",
            "Answer is 10\n"
          ]
        }
      ]
    },
    {
      "cell_type": "markdown",
      "source": [
        "Question-6"
      ],
      "metadata": {
        "id": "xByju_TRkqLs"
      }
    },
    {
      "cell_type": "code",
      "source": [
        "\n",
        "print(\"1st pattern\")\n",
        "i=1\n",
        "while i<=10:\n",
        "  j=1\n",
        "  while j<=i:\n",
        "    print('*',end=\" \")\n",
        "    j=j+1\n",
        "  print(\" \")\n",
        "  i+=1\n",
        "\n",
        "print(\"2nd pattern\")\n",
        "i=10\n",
        "while i>0:\n",
        "  j=1\n",
        "  while j<=i:\n",
        "    print('*',end=\" \")\n",
        "    j=j+1\n",
        "  print(\" \")\n",
        "  i-=1\n",
        "print(\"3rd pattern\")\n",
        "i=1\n",
        "while i<=10:\n",
        "  print(' '*(10-i) + '* '*i)\n",
        "  i+=1"
      ],
      "metadata": {
        "colab": {
          "base_uri": "https://localhost:8080/"
        },
        "id": "kyzzpQiIksS4",
        "outputId": "1a57c651-6b6f-470d-b2f4-2224b35c7d37"
      },
      "execution_count": null,
      "outputs": [
        {
          "output_type": "stream",
          "name": "stdout",
          "text": [
            "1st pattern\n",
            "*  \n",
            "* *  \n",
            "* * *  \n",
            "* * * *  \n",
            "* * * * *  \n",
            "* * * * * *  \n",
            "* * * * * * *  \n",
            "* * * * * * * *  \n",
            "* * * * * * * * *  \n",
            "* * * * * * * * * *  \n",
            "2nd pattern\n",
            "* * * * * * * * * *  \n",
            "* * * * * * * * *  \n",
            "* * * * * * * *  \n",
            "* * * * * * *  \n",
            "* * * * * *  \n",
            "* * * * *  \n",
            "* * * *  \n",
            "* * *  \n",
            "* *  \n",
            "*  \n",
            "3rd pattern\n",
            "         * \n",
            "        * * \n",
            "       * * * \n",
            "      * * * * \n",
            "     * * * * * \n",
            "    * * * * * * \n",
            "   * * * * * * * \n",
            "  * * * * * * * * \n",
            " * * * * * * * * * \n",
            "* * * * * * * * * * \n"
          ]
        }
      ]
    },
    {
      "cell_type": "markdown",
      "source": [
        "Question-7"
      ],
      "metadata": {
        "id": "uvIEcOWZkgJg"
      }
    },
    {
      "cell_type": "code",
      "source": [
        "x=10\n",
        "while x>0:\n",
        "  print(x)\n",
        "  x-=1"
      ],
      "metadata": {
        "colab": {
          "base_uri": "https://localhost:8080/"
        },
        "id": "fsRoasuWkaLa",
        "outputId": "8e5e7c9c-e0f5-4833-a51f-2b5e9951bab5"
      },
      "execution_count": null,
      "outputs": [
        {
          "output_type": "stream",
          "name": "stdout",
          "text": [
            "10\n",
            "9\n",
            "8\n",
            "7\n",
            "6\n",
            "5\n",
            "4\n",
            "3\n",
            "2\n",
            "1\n"
          ]
        }
      ]
    },
    {
      "cell_type": "markdown",
      "source": [
        "Question-8\n"
      ],
      "metadata": {
        "id": "T3Wg0cz2AwGh"
      }
    },
    {
      "cell_type": "code",
      "source": [
        "x=10\n",
        "while x>0:\n",
        "  print(x)\n",
        "  x-=1"
      ],
      "metadata": {
        "colab": {
          "base_uri": "https://localhost:8080/"
        },
        "id": "pWkQfD58AnMW",
        "outputId": "45be93b4-fca1-4e70-8195-3f99360c3760"
      },
      "execution_count": null,
      "outputs": [
        {
          "output_type": "stream",
          "name": "stdout",
          "text": [
            "10\n",
            "9\n",
            "8\n",
            "7\n",
            "6\n",
            "5\n",
            "4\n",
            "3\n",
            "2\n",
            "1\n"
          ]
        }
      ]
    },
    {
      "cell_type": "markdown",
      "source": [],
      "metadata": {
        "id": "RcabniEFkTq2"
      }
    }
  ]
}