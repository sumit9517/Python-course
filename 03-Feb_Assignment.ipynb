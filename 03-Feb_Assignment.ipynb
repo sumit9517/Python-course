{
 "cells": [
  {
   "cell_type": "markdown",
   "id": "df672ce7-0666-4798-bdac-f0e682f1eccb",
   "metadata": {},
   "source": [
    "### Q1. Keyword used to create fuction : def\n",
    "### function to return a list of odd numbers in the range of 1 to 25-"
   ]
  },
  {
   "cell_type": "code",
   "execution_count": 2,
   "id": "20104523-1a13-4a4a-9bcf-8d50478a77c1",
   "metadata": {},
   "outputs": [],
   "source": [
    "def odd_no(a,b):    #lower value = a and upper value  = b\n",
    "    lst=[]\n",
    "    for i in range(a,b+1):\n",
    "        if i%2 !=0:\n",
    "            lst.append(i)\n",
    "    return lst"
   ]
  },
  {
   "cell_type": "code",
   "execution_count": 3,
   "id": "533587c2-9109-4ecd-9e8d-96ed757e056b",
   "metadata": {},
   "outputs": [
    {
     "data": {
      "text/plain": [
       "[1, 3, 5, 7, 9, 11, 13, 15, 17, 19, 21, 23, 25]"
      ]
     },
     "execution_count": 3,
     "metadata": {},
     "output_type": "execute_result"
    }
   ],
   "source": [
    "odd_no(1,25)"
   ]
  },
  {
   "cell_type": "markdown",
   "id": "b049d11f-c81d-4e0d-97a9-6464adc0fa17",
   "metadata": {},
   "source": [
    "### Q2. '*' can take any inputs in tuples and '**' take any inputs in dictionary data type. args and kwargs are just name nothing else."
   ]
  },
  {
   "cell_type": "code",
   "execution_count": 16,
   "id": "7c057357-6d6f-43fe-8c9b-edb2feebada3",
   "metadata": {},
   "outputs": [],
   "source": [
    "def test1(*args):\n",
    "    return args\n",
    "def test2(**kwargs):\n",
    "    return kwargs"
   ]
  },
  {
   "cell_type": "code",
   "execution_count": 17,
   "id": "d0185287-c36c-4f94-8613-95c2e6ccfd8b",
   "metadata": {},
   "outputs": [
    {
     "data": {
      "text/plain": [
       "(1, 2, 3, 4, [1, 2, 3, 5], 'hi')"
      ]
     },
     "execution_count": 17,
     "metadata": {},
     "output_type": "execute_result"
    }
   ],
   "source": [
    "test1(1,2,3,4,[1,2,3,5],'hi')"
   ]
  },
  {
   "cell_type": "code",
   "execution_count": 18,
   "id": "6b9adac4-bd92-4814-85ea-2d6359c2b425",
   "metadata": {},
   "outputs": [
    {
     "data": {
      "text/plain": [
       "{'a': 2, 'b': 3, 'c': 4, 'd': 'hello'}"
      ]
     },
     "execution_count": 18,
     "metadata": {},
     "output_type": "execute_result"
    }
   ],
   "source": [
    "test2(a=2,b=3,c=4,d='hello')"
   ]
  },
  {
   "cell_type": "markdown",
   "id": "42ba6930-2cc6-4f7a-adde-376196491ab8",
   "metadata": {},
   "source": [
    "### Q3. An iterator in Python is an object that can be iterated upon, meaning that you can traverse through all the values. Iterator can be initialise through using for loop."
   ]
  },
  {
   "cell_type": "code",
   "execution_count": 23,
   "id": "35626300-5fe8-46df-baff-53676e72b3ec",
   "metadata": {},
   "outputs": [
    {
     "name": "stdout",
     "output_type": "stream",
     "text": [
      "2 4 6 8 10 "
     ]
    }
   ],
   "source": [
    "given_list=[2, 4, 6, 8, 10, 12, 14, 16,18, 20]\n",
    "count=0\n",
    "for i in given_list:\n",
    "    if count<5:\n",
    "        print(i,end=' ')\n",
    "        count+=1"
   ]
  },
  {
   "cell_type": "markdown",
   "id": "4204230e-5d1c-41ba-a21c-4919d9c60336",
   "metadata": {},
   "source": [
    "### Q4. A generator function in Python is a special type of function that returns an iterator object with a sequence of values, instead of a single value. A generator function uses the yield keyword to produce a value from the generator, instead of the return keyword. Unlike lists, generators do not store their contents in memory, but generate them on demand."
   ]
  },
  {
   "cell_type": "code",
   "execution_count": 32,
   "id": "c24d07fa-a9d9-4eb5-9a41-071f52d04102",
   "metadata": {},
   "outputs": [],
   "source": [
    "def fibo(n):\n",
    "    a,b=0,1\n",
    "    for i in range(n):\n",
    "        yield a\n",
    "        a,b = b, a+b"
   ]
  },
  {
   "cell_type": "code",
   "execution_count": 33,
   "id": "df7cd024-8726-4de6-8dd9-6cf6712c000c",
   "metadata": {},
   "outputs": [
    {
     "data": {
      "text/plain": [
       "<generator object fibo at 0x0000026AA0215660>"
      ]
     },
     "execution_count": 33,
     "metadata": {},
     "output_type": "execute_result"
    }
   ],
   "source": [
    "fibo(20)"
   ]
  },
  {
   "cell_type": "code",
   "execution_count": 35,
   "id": "04206244-b833-46bc-85fc-523a2e248605",
   "metadata": {},
   "outputs": [
    {
     "name": "stdout",
     "output_type": "stream",
     "text": [
      "0 1 1 2 3 5 8 13 21 34 55 89 144 233 377 610 987 1597 2584 4181 "
     ]
    }
   ],
   "source": [
    "for i in fibo(20):\n",
    "    print(i,end=' ')"
   ]
  },
  {
   "cell_type": "markdown",
   "id": "4423696f-ed02-41a4-bf76-ca619b506562",
   "metadata": {},
   "source": [
    "### Q5. Generator function for prime numbers less than 1000"
   ]
  },
  {
   "cell_type": "code",
   "execution_count": 26,
   "id": "2a98b556-a21a-4883-ae7e-38927b8993f3",
   "metadata": {},
   "outputs": [],
   "source": [
    "def prime(n):\n",
    "    lst=[]\n",
    "    for i in  range(2,n+1):\n",
    "        if i==2:\n",
    "            lst.append(i)\n",
    "        else:\n",
    "            for j in range(2,int(i/2)+1):\n",
    "                if i%j==0:\n",
    "                    break\n",
    "            else:\n",
    "                lst.append(i)\n",
    "    return lst\n",
    "  "
   ]
  },
  {
   "cell_type": "code",
   "execution_count": 27,
   "id": "44b5e58e-7bff-4506-a697-4d83ab4ce80d",
   "metadata": {},
   "outputs": [
    {
     "name": "stdout",
     "output_type": "stream",
     "text": [
      "2 3 5 7 11 13 17 19 23 29 31 37 41 43 47 53 59 61 67 71 73 79 83 89 97 101 103 107 109 113 127 131 137 139 149 151 157 163 167 173 179 181 191 193 197 199 211 223 227 229 233 239 241 251 257 263 269 271 277 281 283 293 307 311 313 317 331 337 347 349 353 359 367 373 379 383 389 397 401 409 419 421 431 433 439 443 449 457 461 463 467 479 487 491 499 503 509 521 523 541 547 557 563 569 571 577 587 593 599 601 607 613 617 619 631 641 643 647 653 659 661 673 677 683 691 701 709 719 727 733 739 743 751 757 761 769 773 787 797 809 811 821 823 827 829 839 853 857 859 863 877 881 883 887 907 911 919 929 937 941 947 953 967 971 977 983 991 997 "
     ]
    }
   ],
   "source": [
    "for i in prime(1000):\n",
    "    print(i,end=' ')"
   ]
  },
  {
   "cell_type": "code",
   "execution_count": null,
   "id": "59e1238c-d241-46a2-a79e-acb2550bab8f",
   "metadata": {},
   "outputs": [],
   "source": []
  },
  {
   "cell_type": "code",
   "execution_count": 1,
   "id": "e83736e4-3760-4476-bd45-43c526245016",
   "metadata": {},
   "outputs": [],
   "source": []
  },
  {
   "cell_type": "code",
   "execution_count": null,
   "id": "ec20939f-05a9-4583-852e-78b215a49f6f",
   "metadata": {},
   "outputs": [],
   "source": []
  },
  {
   "cell_type": "code",
   "execution_count": null,
   "id": "924bb753-b296-4fc6-9fa8-78d358e1ee51",
   "metadata": {},
   "outputs": [],
   "source": []
  }
 ],
 "metadata": {
  "kernelspec": {
   "display_name": "Python 3 (ipykernel)",
   "language": "python",
   "name": "python3"
  },
  "language_info": {
   "codemirror_mode": {
    "name": "ipython",
    "version": 3
   },
   "file_extension": ".py",
   "mimetype": "text/x-python",
   "name": "python",
   "nbconvert_exporter": "python",
   "pygments_lexer": "ipython3",
   "version": "3.9.13"
  }
 },
 "nbformat": 4,
 "nbformat_minor": 5
}
